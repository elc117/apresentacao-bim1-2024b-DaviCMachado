{
 "cells": [
  {
   "cell_type": "markdown",
   "metadata": {},
   "source": [
    "## Side Effects (Efeitos Colaterais) em Programação\n"
   ]
  },
  {
   "cell_type": "markdown",
   "metadata": {},
   "source": [
    "  Por: Davi"
   ]
  },
  {
   "cell_type": "markdown",
   "metadata": {},
   "source": [
    "### O que são?"
   ]
  },
  {
   "cell_type": "markdown",
   "metadata": {},
   "source": [
    "Efeito colateral, em computação, é quando um código interfere em algo além do que deveria. \n",
    "\n",
    "Ou seja, ele afeta o ambiente externo de uma forma inesperada. \n",
    "\n",
    "Isso acontece quando o código não é \"autocontido\", ou seja, quando falta encapsulamento. \n",
    "\n",
    "No contexto de programação funcional, evitamos esses efeitos, pois a ideia é que uma função não altere o estado externo.\n",
    "\n",
    "É importante notar que uma função pode receber dados de fora, mas não deve modificá-los. \n",
    "\n",
    "Alterar uma cópia local desses dados não gera efeitos colaterais. O problema surge quando a função muda diretamente o estado externo, seja por parâmetros, variáveis globais ou outros meios.\n",
    "\n",
    "Linguagens funcionais tentam evitar ao máximo os efeitos colaterais, já que funções que não os têm são mais fáceis de entender, testar e depurar. \n",
    "\n",
    "No entanto, zero efeito colateral é impossível em sistemas mais complexos. Na programação orientada a objetos (OOP), é comum alterar estados externos, o que muitas vezes leva a esses efeitos.\n",
    "\n",
    "Evitar a alteração de estados externos torna o código mais previsível e seguro, mas nem sempre é prático, pois há um equilíbrio a ser alcançado entre pureza e complexidade no desenvolvimento de software."
   ]
  },
  {
   "cell_type": "code",
   "execution_count": null,
   "metadata": {},
   "outputs": [],
   "source": [
    "from PIL import Image\n",
    "\n",
    "# Carregar a imagem\n",
    "img = Image.open('side.png')\n",
    "\n",
    "# Exibir a imagem\n",
    "img.show()\n"
   ]
  },
  {
   "cell_type": "markdown",
   "metadata": {},
   "source": [
    "## Exemplo de código com Side Effects\n"
   ]
  },
  {
   "cell_type": "code",
   "execution_count": null,
   "metadata": {},
   "outputs": [],
   "source": [
    "# Estado global\n",
    "minha_lista = [7, 5, 4]\n",
    "\n",
    "def adicionar_elemento(elemento):\n",
    "    # Função com efeito colateral: altera a lista global\n",
    "    minha_lista.append(elemento)\n",
    "\n",
    "adicionar_elemento(10)\n",
    "print(minha_lista)  # Output: [10]\n"
   ]
  },
  {
   "cell_type": "markdown",
   "metadata": {},
   "source": [
    "## Exemplo de código sem Side Effects\n"
   ]
  },
  {
   "cell_type": "code",
   "execution_count": null,
   "metadata": {},
   "outputs": [],
   "source": [
    "def adicionar_elemento_sem_efeito(lista, elemento):\n",
    "    # Função sem efeito colateral: cria uma nova lista sem alterar o estado original\n",
    "    nova_lista = lista + [elemento]\n",
    "    return nova_lista\n",
    "\n",
    "lista_original = [7, 5, 4]\n",
    "nova_lista = adicionar_elemento_sem_efeito(lista_original, 10)\n",
    "\n",
    "print(lista_original)  # Output: []\n",
    "print(nova_lista)      # Output: [10]\n"
   ]
  },
  {
   "cell_type": "markdown",
   "metadata": {},
   "source": [
    "### Exemplo Real"
   ]
  },
  {
   "cell_type": "code",
   "execution_count": null,
   "metadata": {},
   "outputs": [],
   "source": [
    "# Lista global\n",
    "carrinho_de_compras = []\n",
    "\n",
    "def adicionar_ao_carrinho(item):\n",
    "    # Função que altera a lista global\n",
    "    carrinho_de_compras.append(item)\n",
    "\n",
    "def finalizar_compra():\n",
    "    # Processa a compra e limpa o carrinho\n",
    "    print(f\"Itens no carrinho: {carrinho_de_compras}\")\n",
    "    carrinho_de_compras.clear()  # Limpa o carrinho global\n",
    "\n",
    "# Simulação de dois usuários diferentes\n",
    "adicionar_ao_carrinho('Maçã')    # Usuário 1\n",
    "adicionar_ao_carrinho('Banana')  # Usuário 2\n",
    "finalizar_compra()  # Ambos os itens aparecem\n",
    "\n",
    "# Usuário 2 tenta adicionar algo depois\n",
    "adicionar_ao_carrinho('Laranja')\n",
    "finalizar_compra()  # Só o item 'Laranja' aparece\n"
   ]
  },
  {
   "cell_type": "markdown",
   "metadata": {},
   "source": [
    "**Problema**: Neste exemplo, a lista global carrinho_de_compras é compartilhada entre todas as chamadas da função. Se dois usuários estiverem tentando adicionar itens ao carrinho ao mesmo tempo (em um sistema real), seus itens podem se misturar, causando confusão."
   ]
  },
  {
   "cell_type": "code",
   "execution_count": null,
   "metadata": {},
   "outputs": [],
   "source": [
    "def adicionar_ao_carrinho(item, carrinho):\n",
    "    # Função que trabalha com uma lista local (passada como argumento)\n",
    "    carrinho.append(item)\n",
    "    return carrinho\n",
    "\n",
    "def finalizar_compra(carrinho):\n",
    "    # Processa a compra e limpa o carrinho local\n",
    "    print(f\"Itens no carrinho: {carrinho}\")\n",
    "    carrinho.clear()  # Limpa o carrinho local\n",
    "\n",
    "# Simulação de dois usuários diferentes\n",
    "carrinho_usuario1 = []\n",
    "carrinho_usuario2 = []\n",
    "\n",
    "carrinho_usuario1 = adicionar_ao_carrinho('Maçã', carrinho_usuario1)    # Usuário 1\n",
    "carrinho_usuario2 = adicionar_ao_carrinho('Banana', carrinho_usuario2)  # Usuário 2\n",
    "\n",
    "finalizar_compra(carrinho_usuario1)  # Itens do usuário 1: ['Maçã']\n",
    "\n",
    "\n",
    "# Outro usuário adiciona algo separadamente\n",
    "carrinho_usuario2 = adicionar_ao_carrinho('Laranja', carrinho_usuario2)\n",
    "finalizar_compra(carrinho_usuario2)  # Itens do usuário 2: ['Laranja']\n"
   ]
  },
  {
   "cell_type": "markdown",
   "metadata": {},
   "source": [
    "**Solução**: Aqui, cada usuário tem seu próprio carrinho local, passando-o como parâmetro para as funções. Isso garante que os itens de um usuário não se misturem com os de outro. Como a lista é local a cada contexto de usuário, não há interferência entre diferentes chamadas."
   ]
  },
  {
   "cell_type": "markdown",
   "metadata": {},
   "source": [
    "## E a parte boa dos side effects?"
   ]
  },
  {
   "cell_type": "markdown",
   "metadata": {},
   "source": [
    "### 1. Interação com o mundo externo\n",
    "\n",
    "Efeitos colaterais são necessários quando o programa precisa interagir com o mundo fora dele. Sem side effects, um programa seria completamente autocontido e incapaz de realizar ações úteis no ambiente externo, como:\n",
    "\n",
    "- Gravar dados em um banco de dados: Quando você salva informações, como o cadastro de um novo usuário, precisa alterar o estado externo (o banco de dados).\n",
    "\n",
    "```python\n",
    "def salvar_usuario(usuario):\n",
    "    banco_de_dados.save(usuario)  # Side effect: alteração no banco de dados\n",
    "```"
   ]
  },
  {
   "cell_type": "markdown",
   "metadata": {},
   "source": [
    "- Exibir algo na tela ou log: Funções que imprimem no console, escrevem arquivos de log ou mostram mensagens ao usuário dependem de efeitos colaterais para fornecer feedback.\n",
    "\n",
    "```python\n",
    "def imprimir_mensagem(mensagem):\n",
    "    print(mensagem)  # Side effect: saída no console\n",
    "```"
   ]
  },
  {
   "cell_type": "markdown",
   "metadata": {},
   "source": [
    "- Enviar uma mensagem ou e-mail: Enviar uma notificação, e-mail ou mensagem também é um efeito colateral necessário em muitos sistemas.\n",
    "\n",
    "```python\n",
    "def enviar_email(destinatario, conteudo):\n",
    "    servidor_email.enviar(destinatario, conteudo)  # Side effect: envio de e-mail\n",
    "```"
   ]
  },
  {
   "cell_type": "markdown",
   "metadata": {},
   "source": [
    "### 2. Comunicação entre sistemas\n",
    "\n",
    "Muitos sistemas precisam se comunicar com APIs, servidores ou outros componentes externos. Para isso, precisam alterar o estado externo, seja enviando uma requisição HTTP ou modificando arquivos, o que caracteriza um side effect.\n",
    "\n",
    "- API requests: Enviar ou receber dados de um servidor via API é um efeito colateral que permite a comunicação entre diferentes partes de um sistema.\n",
    "\n",
    "```python\n",
    "def obter_dados_api(url):\n",
    "    resposta = requests.get(url)  # Side effect: chamada externa\n",
    "    return resposta.json()\n",
    "```"
   ]
  },
  {
   "cell_type": "markdown",
   "metadata": {},
   "source": [
    "### 3. Gerenciamento de estado global\n",
    "\n",
    "Em sistemas mais complexos, como jogos ou grandes aplicações, é necessário um gerenciamento de estado centralizado. Alterar o estado global é considerado um side effect, mas é fundamental para que o sistema funcione corretamente.\n",
    "\n",
    "- Exemplo de jogo: Um jogo precisa alterar o estado do jogo (pontos, vidas, progresso) à medida que o jogador interage.  \n",
    "\n",
    "```python\n",
    "def atualizar_pontuacao(pontos):\n",
    "    estado_jogo['pontuacao'] += pontos  # Side effect: alteração no estado do jogo\n",
    "```"
   ]
  },
  {
   "cell_type": "markdown",
   "metadata": {},
   "source": [
    "### 4. Desempenho e eficiência\n",
    "\n",
    "Em alguns casos, efeitos colaterais podem ser usados para otimizar o desempenho. \n",
    "\n",
    "- Por exemplo, em algoritmos que calculam valores caros computacionalmente, você pode usar um cache para armazenar o resultado de cálculos, evitando recalcular. Esse cache é um estado externo que é modificado para melhorar a eficiência.\n",
    "\n",
    "```python \n",
    "cache = {}\n",
    "\n",
    "def calcular_com_cache(n):\n",
    "    if n in cache:\n",
    "        return cache[n]\n",
    "    resultado = n * n  # Operação pesada, por exemplo\n",
    "    cache[n] = resultado  # Side effect: alteração no cache\n",
    "    return resultado\n",
    "```"
   ]
  },
  {
   "cell_type": "markdown",
   "metadata": {},
   "source": [
    "### 5. Persistência de dados\n",
    "\n",
    "- Se você quer garantir que os dados fiquem salvos após o término de uma operação, como salvar um arquivo, o efeito colateral é fundamental para persistir esses dados no sistema de arquivos.\n",
    "\n",
    "```python\n",
    "def salvar_arquivo(conteudo, nome_arquivo):\n",
    "    with open(nome_arquivo, 'w') as arquivo:\n",
    "        arquivo.write(conteudo)  # Side effect: criação de arquivo no sistema\n",
    "```"
   ]
  },
  {
   "cell_type": "markdown",
   "metadata": {},
   "source": [
    "## Vantagens de Evitar Efeitos Colaterais\n",
    "\n",
    "- Facilidade de entendimento.\n",
    "\n",
    "- Depuração mais simples: Mais fácil identificar erros e rastrear problemas no código.\n",
    "\n",
    "- Testes mais eficientes: Mais fáceis de testar, seu comportamento depende apenas de seus parâmetros.\n",
    "\n",
    "- Modularidade e reuso: Podem ser reutilizadas em diferentes contextos sem causar problemas inesperados.\n",
    "\n",
    "- Concorrência segura: Mais seguro para rodar em paralelo, pois não altera estados compartilhados.\n",
    "\n",
    "\n",
    "## Desvantagens de Evitar Efeitos Colaterais\n",
    "\n",
    "- Dificuldade de implementação: Pode ser muito trabalhoso e exigir soluções complexas.\n",
    "\n",
    "- Necessidade de comunicação externa: Muitas vezes, o sistema precisa interagir com o mundo externo, como bancos de dados ou redes, e isso pode exigir alterações de estado.\n",
    "\n",
    "- Complexidade em programação funcional pura: Linguagens que tentam evitar efeitos colaterais em todos os casos podem se tornar difíceis de usar para programadores menos experientes.\n",
    "\n",
    "- Trade-offs no design: Tentar fugir de efeitos colaterais a todo custo pode complicar o código desnecessariamente, tornando-o menos eficiente ou mais difícil de manter.\n",
    "\n"
   ]
  },
  {
   "cell_type": "markdown",
   "metadata": {},
   "source": [
    "### Comparação Programação Funcional x Orientada a Objetos"
   ]
  },
  {
   "cell_type": "code",
   "execution_count": null,
   "metadata": {},
   "outputs": [],
   "source": [
    "from PIL import Image\n",
    "\n",
    "# Carregar a imagem\n",
    "img = Image.open('compare.png')\n",
    "\n",
    "# Exibir a imagem\n",
    "img.show()\n"
   ]
  },
  {
   "cell_type": "markdown",
   "metadata": {},
   "source": [
    "## Conclusão"
   ]
  },
  {
   "cell_type": "markdown",
   "metadata": {},
   "source": [
    "- Os efeitos colaterais são indispensáveis para qualquer programa que precise interagir com o mundo externo, seja para persistir dados, comunicar-se com outros sistemas, ou fornecer feedback ao usuário. \n",
    "\n",
    "- O importante é saber quando e como usá-los de forma controlada para evitar bugs e comportamentos inesperados. \n",
    "\n",
    "- O ideal é encontrar um equilíbrio: minimizar os efeitos colaterais sempre que possível, mas usá-los quando necessários para realizar ações úteis fora do escopo do programa."
   ]
  }
 ],
 "metadata": {
  "kernelspec": {
   "display_name": "Python 3",
   "language": "python",
   "name": "python3"
  },
  "language_info": {
   "codemirror_mode": {
    "name": "ipython",
    "version": 3
   },
   "file_extension": ".py",
   "mimetype": "text/x-python",
   "name": "python",
   "nbconvert_exporter": "python",
   "pygments_lexer": "ipython3",
   "version": "3.12.1"
  }
 },
 "nbformat": 4,
 "nbformat_minor": 2
}
